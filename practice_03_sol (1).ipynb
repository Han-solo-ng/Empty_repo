{
 "cells": [
  {
   "cell_type": "markdown",
   "metadata": {},
   "source": [
    "# Introduction to numerical algorithms\n",
    "## Practice class 3 - Vectors, matrices, vector operations, linear and affine transformations"
   ]
  },
  {
   "cell_type": "markdown",
   "metadata": {},
   "source": [
    "### Task 1: Angle between vectors\n",
    "Write a function which gets two vectors and calculate the angle between them.\n",
    "1. Check the length of the input vectors, if not the same raise input error.\n",
    "2. Use the scalar product to calculate the angle between the two vectors.\n",
    "3. Use an input parameter to determine the unit of the output (degrees or radian)\n",
    "4. Is it working for any dimensions?\n",
    "5. Test your function with 2 and 3 dimensional vectors, eg. `[1,1], [1,-1]` and `[2,1,1], [3,-4,2]`."
   ]
  },
  {
   "cell_type": "code",
   "execution_count": null,
   "metadata": {},
   "outputs": [],
   "source": [
    "import numpy as np\n",
    "def angle_of_vectors(a,b,unit='degree'):\n",
    "    if len(a) != len(b): raise ValueError('Mismatch in array size')\n",
    "    if unit not in ['degree','radian']: raise ValueError('unit not radian or degree')\n",
    "    if unit == 'degree':\n",
    "        return np.arccos(np.dot(a,b)/np.linalg.norm(a)/np.linalg.norm(b))*180/np.pi\n",
    "    if unit == 'radian':\n",
    "        return np.arccos(np.dot(a,b)/np.linalg.norm(a)/np.linalg.norm(b))"
   ]
  },
  {
   "cell_type": "markdown",
   "metadata": {},
   "source": [
    "### Task 2: Decomposition of arrays\n",
    "\n",
    "Write a function which gets a vector $\\vec{v}$ and a direction $\\vec{d}$ and calulcate the parallel and perpendicular component of $\\vec{v}$ to the direction $\\vec{d}$.\n",
    "1. Work with 2 dimensional arrays first.\n",
    "2. For the parallel component use the scalar product.\n",
    "3. For the perpendicular component use the cross product.\n",
    "4. Create a plot of the vectors.\n",
    "5. Modify your code, to deal with 3 dimensional vectors. Be careful with the perpendicular direction! \n",
    "6. Construct the projector matrices for the parallel and perpendicular directions. The projection matrix to a vector $\\vec{a}$ is defined as \n",
    "$$\n",
    "\\underline{\\underline{P}}=\\dfrac{\\vec{a}\\otimes\\vec{a}}{\\vec{a}\\cdot\\vec{a}}\n",
    "$$"
   ]
  },
  {
   "cell_type": "code",
   "execution_count": null,
   "metadata": {},
   "outputs": [],
   "source": [
    "import numpy as np\n",
    "from matplotlib import pyplot as plt\n",
    "\n",
    "def project_vect2d(v,d):\n",
    "    if (len(d)!=2 or len(v)!=2): raise ValueError('only 2d arrays')\n",
    "    vpar=d*np.dot(v,d)/np.linalg.norm(d)**2\n",
    "    vperp=np.array([d[1],-d[0]])*np.cross(v,d)/np.linalg.norm(d)**2\n",
    "    return vpar,vperp\n",
    "def project_vect3d(v,d):\n",
    "    if (len(d)!=3 or len(v)!=3): raise ValueError('only 3d arrays')\n",
    "    vpar=d*np.dot(v,d)/np.linalg.norm(d)**2\n",
    "    vperp=np.cross(d,np.cross(v,d))/np.linalg.norm(d)**2\n",
    "    return vpar,vperp\n",
    "\n",
    "v=np.array([1,-1])\n",
    "d=np.array([2,1])\n",
    "v3d=np.array([1,-1,0])\n",
    "d3d=np.array([2,1,0])\n",
    "vpar,vperp=project_vect2d(v,d)\n",
    "vpar3d,vperp3d=project_vect3d(v3d,d3d)\n",
    "fig,ax=plt.subplots(1,1,figsize=(8,8))\n",
    "ax.arrow(0,0,*d,width=0.03,ec='k',fc='k')\n",
    "ax.arrow(0,0,*v,width=0.01,ec='C00',fc='C00')\n",
    "ax.arrow(0,0,*vperp,width=0.01,ec='C01',fc='C01')\n",
    "ax.arrow(0,0,*vpar,width=0.01,ec='C02',fc='C02')\n",
    "ax.axis('equal')\n",
    "ax.axis('off')\n",
    "fig,ax=plt.subplots(1,1,figsize=(8,8))\n",
    "ax.arrow(0,0,*d3d[:2],width=0.03,ec='k',fc='k')\n",
    "ax.arrow(0,0,*v3d[:2],width=0.01,ec='C00',fc='C00')\n",
    "ax.arrow(0,0,*vperp3d[:2],width=0.01,ec='C01',fc='C01')\n",
    "ax.arrow(0,0,*vpar3d[:2],width=0.01,ec='C02',fc='C02')\n",
    "ax.axis('equal')\n",
    "ax.axis('off')"
   ]
  },
  {
   "cell_type": "markdown",
   "metadata": {},
   "source": [
    "### Task 3: Volume of a parallelepiped \n",
    "\n",
    "A parallelelepiped can be defined with a $3\\times 3$ matrix, where the coloumns of the matrix contains the vectors spanning the parallelepiped. Write a function which gets a $3\\times 3$ matrix as input and returns the volume of the parallelepiped spanned by the coloumns of the matrix.\n",
    "\n",
    "1. Check that the defined object is three dimensional. \n",
    "2. First wirte a function uses the usual formula $V=A\\cdot h$, where $A$ is the base area and $h$ is the height of the parallelepiped.\n",
    "3. Then write a function uses the determinant.\n",
    "4. Extend your code to also calculate the surface are of the parallelepiped."
   ]
  },
  {
   "cell_type": "code",
   "execution_count": null,
   "metadata": {},
   "outputs": [],
   "source": [
    "import numpy as np\n",
    "def volume(A):\n",
    "    if(np.abs(np.linalg.det(A))<1e-10):\n",
    "        raise ValueError('A has to be rank 3, but det(A)=0')\n",
    "    v1=A[:,0]\n",
    "    v2=A[:,1]\n",
    "    area_vect=np.cross(v1,v2)\n",
    "    area=np.linalg.norm(area_vect)\n",
    "    v3=A[:,2]\n",
    "    heigth=np.dot(v3,area_vect/area)\n",
    "    return area*heigth\n",
    "\n",
    "def volume2(A):\n",
    "    return np.linalg.det(A)\n",
    "\n",
    "def surface_area(A):\n",
    "    surface_area=0.0\n",
    "    surface_area+=2*np.linalg.norm(np.cross(A[:,0],A[:,1]))\n",
    "    surface_area+=2*np.linalg.norm(np.cross(A[:,0],A[:,2]))\n",
    "    surface_area+=2*np.linalg.norm(np.cross(A[:,1],A[:,2]))\n",
    "    return surface_area\n",
    "\n",
    "A=np.eye(3)\n",
    "print(A)\n",
    "print(volume(A))\n",
    "print(surface_area(A))"
   ]
  },
  {
   "cell_type": "markdown",
   "metadata": {},
   "source": [
    "## Recap on the linear transformations\n",
    "\n",
    "![](https://miro.medium.com/v2/resize:fit:720/format:webp/0*rAAM3EWn0Q5MRGWp.png)\n",
    "![](https://miro.medium.com/v2/resize:fit:720/format:webp/1*QCGKz_TZPBhYOjTIm55A7w.jpeg)\n",
    "\n",
    "## Why do we care\n",
    "\n",
    "We like in physics if we make a translation for instance, then our equations, or at least their message, do not change. Recall special relativity to be invariant under Lorentz transformations, which are affine transformations.\n",
    "\n",
    "Affine transformations are also heavily used in image manipulation and data augmentation methods. Data augmentation is one of the cornerstones of effectively training some (deep) neural networks and in enhancing the image recognition capabilities of certain AI models. See for more YOLO model, Fast-CNN or General Object Detection algorithms. \n",
    "\n"
   ]
  },
  {
   "cell_type": "markdown",
   "metadata": {},
   "source": [
    "### Task 4\n",
    "\n",
    "Below you have a $2\\times 2$ matrix. Illustrate the following affine transformations on it:\n",
    "1. Scaling\n",
    "2. Shearing\n",
    "3. Rotation\n",
    "4. Reflection (with respect to some line/axis in some angle)\n",
    "\n",
    "Use only `numpy` functions! \n",
    "\n",
    "Hint: You may want to define a transformation matrix in each case and apply that one!"
   ]
  },
  {
   "cell_type": "code",
   "execution_count": null,
   "metadata": {},
   "outputs": [],
   "source": [
    "aux = np.ones((100, 100), dtype=int)\n",
    "src = np.vstack([np.c_[aux, 2*aux], np.c_[3*aux, 4*aux]])\n",
    "plt.imshow(src)\n",
    "plt.show()"
   ]
  },
  {
   "cell_type": "code",
   "execution_count": null,
   "metadata": {},
   "outputs": [],
   "source": [
    "def linear_transformation(src, a):\n",
    "    M, N = src.shape\n",
    "    points = np.mgrid[0:N, 0:M].reshape((2, M*N))\n",
    "    new_points = np.linalg.inv(a).dot(points).round().astype(int)\n",
    "    x, y = new_points.reshape((2, M, N), order='F')\n",
    "    indices = x + N*y\n",
    "    return np.take(src, indices, mode='wrap')"
   ]
  },
  {
   "cell_type": "code",
   "execution_count": null,
   "metadata": {},
   "outputs": [],
   "source": [
    "a = np.array([[1.5, 0],\n",
    "              [0, 1]])\n",
    "dst = linear_transformation(src, a)\n",
    "plt.imshow(dst)\n",
    "plt.show()"
   ]
  },
  {
   "cell_type": "code",
   "execution_count": null,
   "metadata": {},
   "outputs": [],
   "source": [
    "a = 1.8*np.eye(2)\n",
    "dst = linear_transformation(src, a)\n",
    "plt.imshow(dst)\n",
    "plt.show()"
   ]
  },
  {
   "cell_type": "code",
   "execution_count": null,
   "metadata": {},
   "outputs": [],
   "source": [
    "a = .5*np.eye(2)\n",
    "dst = linear_transformation(src, a)\n",
    "plt.imshow(dst)\n",
    "plt.show()"
   ]
  },
  {
   "cell_type": "code",
   "execution_count": null,
   "metadata": {},
   "outputs": [],
   "source": [
    "a = np.array([[1, 0],\n",
    "              [0, .5]])\n",
    "dst = linear_transformation(src, a)\n",
    "plt.imshow(dst)\n",
    "plt.show()"
   ]
  },
  {
   "cell_type": "code",
   "execution_count": null,
   "metadata": {},
   "outputs": [],
   "source": [
    "a = np.array([[1, 0],\n",
    "              [.5, 1]])\n",
    "dst = linear_transformation(src, a)\n",
    "plt.imshow(dst)\n",
    "plt.show()"
   ]
  },
  {
   "cell_type": "code",
   "execution_count": null,
   "metadata": {},
   "outputs": [],
   "source": [
    "alpha = np.pi/4\n",
    "a = np.array([[np.cos(alpha), -np.sin(alpha)],\n",
    "              [np.sin(alpha), np.cos(alpha)]])\n",
    "dst = linear_transformation(src, a)\n",
    "plt.imshow(dst)\n",
    "plt.show()"
   ]
  },
  {
   "cell_type": "code",
   "execution_count": null,
   "metadata": {},
   "outputs": [],
   "source": [
    "alpha = np.pi/4\n",
    "a = np.array([[np.cos(2*alpha), np.sin(2*alpha)],\n",
    "              [np.sin(2*alpha), -np.cos(2*alpha)]])\n",
    "dst = linear_transformation(src, a)\n",
    "plt.imshow(dst)\n",
    "plt.show()"
   ]
  },
  {
   "cell_type": "markdown",
   "metadata": {},
   "source": [
    "### Task 5\n",
    "\n",
    "Using `scipy.ndimage.affine_transform` function put together a workflow that can manipulate an image by:\n",
    "\n",
    "1. translation\n",
    "2. scaling\n",
    "3. rotation\n",
    "\n",
    "Plot the original and resulting image. Do you notice something weird about the scaling factors? What and why does it happen?\n",
    "Does it work the same for an RGB and a BW image?"
   ]
  },
  {
   "cell_type": "code",
   "execution_count": null,
   "metadata": {},
   "outputs": [],
   "source": [
    "from scipy.ndimage import affine_transform\n",
    "from matplotlib.image import imread\n",
    "mpl.rcParams.update(mpl.rcParamsDefault)\n",
    "\n",
    "image = imread('corgi.png') \n",
    "\n",
    "plt.figure(figsize=(12, 6), dpi = 150)\n",
    "plt.imshow(image, cmap='gray')\n",
    "plt.xlabel('y axis')\n",
    "plt.ylabel('x axis')\n",
    "plt.show()"
   ]
  },
  {
   "cell_type": "code",
   "execution_count": null,
   "metadata": {},
   "outputs": [],
   "source": [
    "def show(image, transformedImage):\n",
    "    \n",
    "    fig, ax = plt.subplots(nrows=1, ncols=2, dpi=100)\n",
    "    \n",
    "    ax[0].set_title('Original Image')\n",
    "    ax[0].imshow(image, cmap='gray')\n",
    "    ax[0].set_xlabel('y axis')\n",
    "    ax[0].set_ylabel('x axis')\n",
    "\n",
    "    ax[1].set_title('Transformed Image')\n",
    "    ax[1].imshow(transformedImage, cmap='gray')\n",
    "    ax[1].set_xlabel('y axis')\n",
    "    ax[1].set_ylabel('x axis')\n",
    "    \n",
    "    fig.tight_layout()\n",
    "    \n",
    "    plt.show()"
   ]
  },
  {
   "cell_type": "code",
   "execution_count": null,
   "metadata": {},
   "outputs": [],
   "source": [
    "# get image width and height\n",
    "wImage, hImage, ch = image.shape\n",
    "\n",
    "theta = np.deg2rad(25)\n",
    "\n",
    "# Define the rotation matrix\n",
    "matRotation = np.array([[np.cos(theta), -np.sin(theta), 0],\n",
    "                        [np.sin(theta),  np.cos(theta), 0],\n",
    "                        [0, 0, 1]])\n",
    "\n",
    "# translate the image (move the origin to center)\n",
    "matTranslationCenter = np.array([[1,0,wImage/2],[0,1,hImage/2],[0,0,1]])\n",
    "\n",
    "# scale the image\n",
    "matScale = np.array([[1.5,0,0],[0,1.5,0],[0,0,1]])\n",
    "#matScale = np.array([[1.5,0,0],[0,1.5,0],[0,0,1]])\n",
    "\n",
    "# translate the image (move the origin back to top left corner)\n",
    "matTranslationTopLeft = np.array([[1,0,-wImage/2],[0,1,-hImage/2],[0,0,1]])\n",
    "\n",
    "# combine the transformation maatrix by matrix multiplication\n",
    "matScaleMid = matRotation @ matTranslationCenter @ matScale @ matTranslationTopLeft\n",
    "matScaleMid = np.linalg.inv(matScaleMid)"
   ]
  },
  {
   "cell_type": "code",
   "execution_count": null,
   "metadata": {},
   "outputs": [],
   "source": [
    "# imScaleMid = affine_transform(image, matScaleMid) # for i channel img\n",
    "imScaleMid = np.zeros_like(image)\n",
    "for i in range(ch):\n",
    "    imScaleMid[:, :, i] = affine_transform(image[:, :, i], matScaleMid[:2, :2], offset=matScaleMid[:2, 2])\n",
    "\n",
    "show(image, imScaleMid)"
   ]
  },
  {
   "cell_type": "markdown",
   "metadata": {},
   "source": [
    "### Homework\n",
    "\n",
    "**Description**\n",
    "A matrix in different coordinate systems can be written in terms of projectors as:\n",
    "\\begin{equation}\n",
    "\\underline{\\underline{A}}=\\sum_{\\alpha,\\beta} A_{\\alpha,\\beta} \\underline{\\underline{P}}_{\\alpha,\\beta}\n",
    "\\end{equation}\n",
    "where $A_{\\alpha,\\beta}=\\vec{e}_\\alpha \\underline{\\underline{A}} \\vec{e}_\\beta$ is the matrix element in the given coordinate system, and\n",
    "\\begin{equation}\n",
    "\\underline{\\underline{P}}_{\\alpha,\\beta} = \\vec{e}_\\alpha \\circ \\vec{e}_\\beta\n",
    "\\end{equation}\n",
    "is the projector related to the $(\\alpha,\\beta)$ matrix element and $\\vec{e}_\\alpha$ and $\\vec{e}_\\beta$ are the related basis vectors.\n",
    "\n",
    "Your task is to write a code which gets a $3\\times 3$ matrix and transform it to an other coordinate system, the other coordinate system is given in terms of the unit vectors of an $(r,\\theta,\\phi)$ spherical coordinate system. See the figure below!\n",
    "\n",
    "<img src=\"spherical.png\" width=400>\n",
    "\n",
    "**Task**\n",
    "1. Define your function `matrix_transform(A,v)`, where `A` is the $3\\times 3$ matrix to transform, `v` is a direction, a 3 component vector.\n",
    "2. Write a function which calculate the $\\theta$ polar, and $\\phi$ azimuthal angles. Be careful, there are different definitions out there on the internet, use the one given in the figure.\n",
    "3. Write a function which constructs the unit vectors of the spherical coordinate system $\\vec{e}_r$, $\\vec{e}_\\theta$, $\\vec{e}_\\phi$ for a given value of $\\theta$ and $\\phi$\n",
    "4. Calculate the matrix elements and construct the transformed matrix.\n",
    "5. Write the funtion `transverse_projection(A,v)`, which has the same input, and calculates the projection of `A` to the normal plane of `v`, meaning that is removes the $r$ compenents and leaves only the $\\theta$ and $\\phi$ components. Return the matrix in the original coordinate system. "
   ]
  },
  {
   "cell_type": "code",
   "execution_count": null,
   "metadata": {},
   "outputs": [],
   "source": [
    "## Test input:\n",
    "A=np.array([[1,np.sqrt(3),1],[np.sqrt(3),2,0],[1,0,1]],dtype=np.float32)\n",
    "v=np.array([1,1,1])\n",
    "## Expected output:\n",
    "#At=matrix_transform(A,v)\n",
    "At=np.load('At.npy')\n",
    "#Ap=transverse_projection(A,v)\n",
    "Ap=np.load('Ap.npy')"
   ]
  }
 ],
 "metadata": {
  "kernelspec": {
   "display_name": "ina",
   "language": "python",
   "name": "python3"
  },
  "language_info": {
   "codemirror_mode": {
    "name": "ipython",
    "version": 3
   },
   "file_extension": ".py",
   "mimetype": "text/x-python",
   "name": "python",
   "nbconvert_exporter": "python",
   "pygments_lexer": "ipython3",
   "version": "3.12.3"
  }
 },
 "nbformat": 4,
 "nbformat_minor": 2
}
