{
 "cells": [
  {
   "cell_type": "markdown",
   "metadata": {},
   "source": [
    "# Introduction to numerical algorithms\n",
    "## Practice class 5\n",
    "\n",
    "### Topics\n",
    "\n",
    "- Eigenvalues, eigenvectors\n",
    "- Applications in more physical context\n",
    "- Derivatives with finite methods"
   ]
  },
  {
   "cell_type": "code",
   "execution_count": null,
   "metadata": {},
   "outputs": [],
   "source": [
    "# Import dependencies\n",
    "import subprocess\n",
    "import sys\n",
    "\n",
    "def import_or_install(package):\n",
    "    try:\n",
    "        __import__(package)\n",
    "    except ImportError:\n",
    "        print(f\"Package '{package}' not found. Installing...\")\n",
    "        subprocess.check_call([sys.executable, \"-m\", \"pip\", \"install\", package])\n",
    "        print(f\"Package '{package}' installed successfully.\")\n",
    "\n",
    "import_or_install('numpy')\n",
    "import numpy as np\n",
    "np.random.seed(42)\n",
    "import_or_install('pandas')\n",
    "import pandas as pd\n",
    "import_or_install('matplotlib')\n",
    "import matplotlib.pyplot as plt \n",
    "import matplotlib as mpl\n",
    "import_or_install('time')\n",
    "import time\n",
    "import_or_install('tqdm')\n",
    "from tqdm import tqdm\n",
    "import_or_install('scipy')\n",
    "import scipy\n",
    "import scipy.integrate as intgr\n",
    "from matplotlib.animation import FuncAnimation, PillowWriter\n",
    "from typing import Callable, Tuple\n",
    "\n",
    "# credit to https://github.com/engineersCode/EngComp4_landlinear/tree/maste"
   ]
  },
  {
   "cell_type": "markdown",
   "metadata": {},
   "source": [
    "## Task 1\n",
    "\n",
    "Consider a system of coupled oscillators as below\n",
    "\n",
    "![](./osc.png)\n",
    "\n",
    "Asssume that from left to right the masses are $m_1$ and $m_2$ and the coupling strengths are $D_1$, $D_2$ and $D_3$. Let's investigate this system analytically! To start, let's try to write down the equations of motion. Simple-mindedly writing down the Newtonian equations of motions ($F=ma$) results in:\n",
    "\n",
    "$$\n",
    "m_1\\ddot{x}_1 = -D_1x_1+D_2(x_2-x_1)\\\\\n",
    "m_2\\ddot{x}_2 = -D_3x_2-D_2(x_2-x_1)\n",
    "$$\n",
    "\n",
    "Now can we do anything more? Think about linear algebra!"
   ]
  },
  {
   "cell_type": "markdown",
   "metadata": {},
   "source": [
    "We can rearrange the equations into matrix form, with a so-called mass ($M$) and spring matrix($D$):\n",
    "$$\n",
    "\\textbf{M} \\ddot{\\underline{x}} = -\\textbf{D} \\underline{x}\\\\\n",
    "\\textbf{M} =  \\begin{pmatrix}\n",
    "        m_1 & 0 \\\\\n",
    "        0 & m_2\n",
    "    \\end{pmatrix}\\\\\n",
    "\\textbf{D} =  \\begin{pmatrix}\n",
    "        D_1+D_2 & -D_2 \\\\\n",
    "        -D_2 & D_2+D_3\n",
    "    \\end{pmatrix}\\\\\n",
    "$$\n",
    "\n",
    "Now if you are familiar with differential equations, this can be solved, and the solution should be something like $\\ddot{x}_i=-\\omega_i x_i$, hence:\n",
    "$$\n",
    "\\underline{x}(t) = \\underline{\\eta}\\cdot sin(\\omega \\cdot t + \\phi)\n",
    "$$\n",
    "Which makes sense, even if you dont know diff. eqs, as the motion somehow should be kinda periodic, hence the sine term.\n",
    "\n",
    "Notice the mode vector here $\\underline{\\eta}$. This guy will be important!\n",
    "\n",
    "Now let's visualize the motion!"
   ]
  },
  {
   "cell_type": "markdown",
   "metadata": {},
   "source": [
    "Pretending for the moment, that we know how to integrate numerically, we will let `odeint` take care of the black magic. The brute-force numerical solution is:"
   ]
  },
  {
   "cell_type": "code",
   "execution_count": null,
   "metadata": {},
   "outputs": [],
   "source": [
    "def equations(X, t, m1, m2, k1, k2, k3):\n",
    "    x1, x2, v1, v2 = X    # unpack variables\n",
    "    dx1 = v1\n",
    "    dx2 = v2\n",
    "    dv1 = -k1/m1 * x1 + k2/m1 * (x2 - x1)\n",
    "    dv2 = -k3/m2 * x2 - k2/m2 * (x2 - x1)\n",
    "    dXdt = [dx1, dx2, dv1, dv2]    # pack derivatives\n",
    "    return dXdt"
   ]
  },
  {
   "cell_type": "code",
   "execution_count": null,
   "metadata": {},
   "outputs": [],
   "source": [
    "# choose parameters\n",
    "m1, m2 = 1, 1\n",
    "k1, k2, k3 = 1, 2, 1\n",
    "\n",
    "# specify initial values\n",
    "x1i, x2i, = 0, 0.4\n",
    "v1i, v2i = 0, 0\n",
    "init = [x1i, x2i, v1i, v2i]\n",
    "\n",
    "T = 20.    # total time to solve for\n",
    "time = np.arange(0, T, 0.1)    # time points to evaluate solution at\n",
    "\n",
    "sol = intgr.odeint(equations, init, time, args=(m1, m2, k1, k2, k3))    # solve equations\n",
    "X = sol[:,0:2]    # vector X consists of the first three components of the solution"
   ]
  },
  {
   "cell_type": "code",
   "execution_count": null,
   "metadata": {},
   "outputs": [],
   "source": [
    "plt.figure()\n",
    "for i in range(2):\n",
    "    plt.plot(time, X[:,i], label=f'$x_{i+1}$')\n",
    "plt.ylim(-1, 1)\n",
    "plt.xlabel(r'$t$')\n",
    "plt.ylabel(r'$x_i$')\n",
    "plt.legend(ncol=3)\n",
    "plt.show()"
   ]
  },
  {
   "cell_type": "markdown",
   "metadata": {},
   "source": [
    "The dynamics look a bit “chaotic”. To gain more insight into the dynamics, we will decompose them into normal modes using matrix diagonalization.\n",
    "\n",
    "Your task is:\n",
    "1. Recognize that by clever rescaling you can rearrange the equation in the form of $$\\ddot{\\mathbf{X}} = - \\mathbf{A} \\cdot \\mathbf{X}$$ Now you should be suspicios because this looks like a SLAE (System of Linear Algebraic Equation)! Assume $A$ can be diagonalized. Then:\n",
    "\\begin{equation}\n",
    "\\mathbf{A} = \\mathbf{R} \\cdot \\mathbf{D} \\cdot \\mathbf{R}^{-1}\n",
    "\\end{equation}\n",
    "where $\\mathbf{D}$ is a diagonal matrix formed by the eigenvalues of $\\mathbf{A}$, and $\\mathbf{R}$ is a matrix whose columns are the corresponding eigenvectors of $\\mathbf{A}$, i.e.,\n",
    "\\begin{equation}\n",
    "\\mathbf{D} = \\left( \\begin{array}{ccc} \\lambda_1 & \\\\ & \\lambda_2 \\end{array} \\right) \\,, \\qquad\n",
    "\\mathbf{R} = \\left( \\begin{array}{ccc} \\vec{\\xi^{(1)}} & \\vec{\\xi^{(2)}} \\end{array} \\right)\n",
    "\\end{equation}\n",
    "In general case, $\\mathbf{D}$ and $\\mathbf{R}$ can be $N$ dimensional.\n",
    "**Use `numpy` to diagonalize your matrix as such!**\n",
    "2. We can use $\\mathbf{R}$ to transform $\\mathbf{X}$ to a new set of variables $\\mathbf{X}' \\equiv \\mathbf{R}^{-1} \\cdot \\mathbf{X}$. With this transformation, the equation for $\\mathbf{X}'$ simplifies to:\n",
    "\\begin{equation}\n",
    "\\ddot{\\mathbf{X}'} = - \\mathbf{D} \\cdot \\mathbf{X}'\n",
    "\\end{equation}\n",
    "Thus, each component satisfies an equation $\\ddot{x}'_i = - \\lambda_i x'_i$, the solution of which is just:\n",
    "\\begin{equation}\n",
    "x'_i(t) = A_i \\sin(\\omega_i t) + B_i \\cos(\\omega_i t)\n",
    "\\end{equation}\n",
    "the actual value of the $A$ and $B$ are depending on the initial condition as,\n",
    "$$\n",
    "A_i = \\dot{X}_i'(0) / \\omega_i  = \\{\\mathbf{R}^{-1} \\cdot \\mathbf{X}(0)\\}_i/\\omega_i \\\\\n",
    "B_i = X_i'(0) = \\{\\mathbf{R}^{-1} \\cdot \\mathbf{X}(0)\\}_i\n",
    "$$\n",
    " and $\\omega_i = \\sqrt{\\lambda_i}$ (we need $\\lambda_i \\geq 0$, which is true for $\\mathbf{A}$, as shown below). Therefore, the solution for the original variables can be written as a sum over **normal modes**:\n",
    "\\begin{equation}\n",
    "\\mathbf{X}(t) = \\mathbf{R} \\cdot \\mathbf{X}'(t) = \\sum_i \\vec{\\xi^{(i)}} (A_i \\sin(\\omega_i t) + B_i \\cos(\\omega_i t)\n",
    "\\end{equation}\n",
    "Each mode has its own frequency of oscillation $\\omega_i$, and the normalized eigenvector $\\vec{\\xi^{(i)}}$ represents the \"direction\" of each mode, whereas $A_i$ and $B_i$ represents the \"amplitude\" of each mode.\n",
    "**Find the eigenvectors and eigenvalues (mode vectors and eigenfrequencies in fact)**\n",
    "3. Substitute back to the solution! Plot the trajectories for each mass found by the integration and found via eigenvalue problem!\n",
    "4. Decompose the motion of the different modes and plot them!\n",
    "5. Knowing the modes of the system, check the trajectories for different initial conditions and plot them! Notice that in the last equations the initial conditions matter and appear in the solutions. Where exactly do you have to use the initial conditions, when computing the trajectories with the help of the modes?"
   ]
  },
  {
   "cell_type": "code",
   "execution_count": null,
   "metadata": {},
   "outputs": [],
   "source": []
  },
  {
   "cell_type": "markdown",
   "metadata": {},
   "source": [
    "If you have the modes, then with this function you can animate:"
   ]
  },
  {
   "cell_type": "code",
   "execution_count": null,
   "metadata": {},
   "outputs": [],
   "source": [
    "import matplotlib.animation as anim\n",
    "\n",
    "plt.rcParams[\"animation.html\"] = \"jshtml\"\n",
    "fig, ax = plt.subplots(figsize=(4,4))\n",
    "ax.set_xlim(-1, 3)\n",
    "ax.set_ylim(-0.5, 2.5)\n",
    "ax.axis('off')\n",
    "ax.text(-1, 0.2, 'all modes')\n",
    "ax.text(-1, 1.2, 'mode 1')\n",
    "ax.text(-1, 2.2, 'mode 2')\n",
    "p1, = ax.plot([], [], 'o-')    # plot masses in mode 1\n",
    "p2, = ax.plot([], [], 'o-')    # plot masses in mode 2\n",
    "p0, = ax.plot([], [], 'o-')    # plot masses in all modes\n",
    "offset = np.arange(2)    # add natural length of springs\n",
    "\n",
    "def animate(t):\n",
    "    p1.set_data(R[:,0]*modes[0,t] + offset, [1, 1])\n",
    "    p2.set_data(R[:,1]*modes[1,t] + offset, [2, 2])\n",
    "    p0.set_data(X_sum[:,t] + offset, [0, 0])\n",
    "\n",
    "mov = anim.FuncAnimation(fig, animate, frames=len(time), interval=50)\n",
    "plt.close()"
   ]
  },
  {
   "cell_type": "code",
   "execution_count": null,
   "metadata": {},
   "outputs": [],
   "source": [
    "mov"
   ]
  },
  {
   "cell_type": "markdown",
   "metadata": {},
   "source": [
    "Finally, we can plot the configuration of the system in a 3-D space to visualize the superposition of the modes."
   ]
  },
  {
   "cell_type": "code",
   "execution_count": null,
   "metadata": {},
   "outputs": [],
   "source": [
    "fig2D = plt.figure(figsize=(5, 5))\n",
    "ax = fig2D.add_subplot()\n",
    "ax.set_xlim(-1, 1)\n",
    "ax.set_ylim(-1, 1)\n",
    "ax.set_xlabel(f'$x_1$')\n",
    "ax.set_ylabel(f'$x_2$')\n",
    "ax.plot([R[0, 0], -R[0, 0]], [R[1, 0], -R[1, 0]], 'blue')    # plot eigenvector 1\n",
    "ax.plot([R[0, 1], -R[0, 1]], [R[1, 1], -R[1, 1]], 'orange')  # plot eigenvector 2\n",
    "p1, = ax.plot([], [], 'o', label='Mode 1')    # plot displacements in mode 1\n",
    "p2, = ax.plot([], [], 'o', label='Mode 2')    # plot displacements in mode 2\n",
    "p0, = ax.plot([], [], '-', label='Total Displacement')    # plot total displacements\n",
    "\n",
    "def animate2D(t):\n",
    "    p1.set_data([R[0, 0] * modes[0, t]], [R[1, 0] * modes[0, t]])\n",
    "    p2.set_data([R[0, 1] * modes[1, t]], [R[1, 1] * modes[1, t]])\n",
    "    p0.set_data(X_sum[0, :t + 1], X_sum[1, :t + 1])\n",
    "    ax.legend()\n",
    "\n",
    "mov2D = anim.FuncAnimation(fig2D, animate2D, frames=len(time), interval=50)\n",
    "plt.close()"
   ]
  },
  {
   "cell_type": "code",
   "execution_count": null,
   "metadata": {},
   "outputs": [],
   "source": [
    "mov2D"
   ]
  },
  {
   "cell_type": "markdown",
   "metadata": {},
   "source": [
    "## Warmup\n",
    "\n",
    "Use vectorized methods to calculate the following quantities:\n",
    "1. $y_i = x_{i+1} - x_{i}$\n",
    "2. $y_i = x_{i} - x_{i-2}$\n",
    "3. $y_i = 3x_{i}-4x_{i-1}+x_{i-2}$\n",
    "\n",
    "Be careful with the length of the resultant array!\n",
    "Use the provided array as input!"
   ]
  },
  {
   "cell_type": "code",
   "execution_count": null,
   "metadata": {},
   "outputs": [],
   "source": [
    "t=np.linspace(0,np.pi/2,10)\n",
    "x=np.sin(t)"
   ]
  },
  {
   "cell_type": "code",
   "execution_count": null,
   "metadata": {},
   "outputs": [],
   "source": []
  },
  {
   "cell_type": "markdown",
   "metadata": {},
   "source": [
    "### Task 2 - Compare finite difference methods\n",
    "\n",
    "In this task you are going to compare the different finite difference derivative methods. In order to do that you are going to write a function what calculates finite differences.\n",
    "\n",
    "**Central**\n",
    "| Order | Accuracy | -2   | -1   | 0    | 1   | 2     |\n",
    "|-------|----------|------:|------:|------:|-----:|-------:|\n",
    "| 1     | 2        |      | -1/2 | 0    | 1/2 |       |\n",
    "| 1     | 4        | 1/12 | −2/3 |   0  | 2/3 | −1/12 |\n",
    "\n",
    "**Forward**\n",
    "| Order | Accuracy  | 0    | 1   | 2     |\n",
    "|-------|-----------|------:|-----:|-------:|\n",
    "| 1     | 1         |  −1  |  1  |       |\n",
    "| 1     | 2         | −3/2 |  2  |  −1/2 |\n",
    "\n",
    "**Backward**\n",
    "| Order | Accuracy | -2   | -1   | 0    |\n",
    "|-------|----------|------:|------:|------:|\n",
    "| 1     | 1        |      |  −1  |  1   |\n",
    "| 1     | 2        |  1/2 |  −2  | 3/2  |\n",
    "\n",
    "1. Write a function ` my_der_calc(f,a,b,N,option)`, with the output as `[df,X]`, where `f` is a function object, `a` and `b` are scalars such that `a < b`, `N` is an integer bigger than 10, and `option` is the string forward, backward, or central. Let `x` be an array starting at `a`, ending at `b`, containing `N` evenly spaced elements, and let $y$ be the array $f(x)$. The output argument, `df`, should be the numerical derivatives computed for $x$ and $y$ according to the method defined by the input argument, option. The output argument `X` should be an array the same size as `df` containing the points in `x` for which `df` is valid. Specifically, the forward difference method “loses” the last point, the backward difference method loses the first point, and the central difference method loses the first and last points.\n",
    "\n",
    "2. Add an other argument to your previous funtion, `accuracy`, what is an integer and can be 1 or 2 based on the rows of the tables above. (And even larger values, see: https://en.wikipedia.org/wiki/Finite_difference_coefficient). \n",
    "\n",
    "3. Test your function. Use the code below to test you function on two different predefined use cases. \n",
    "\n"
   ]
  },
  {
   "cell_type": "code",
   "execution_count": null,
   "metadata": {},
   "outputs": [],
   "source": []
  },
  {
   "cell_type": "code",
   "execution_count": null,
   "metadata": {},
   "outputs": [],
   "source": [
    "# Test code for Task 2.\n",
    "x = np.linspace(0, 2*np.pi, 100)\n",
    "f = lambda x: np.sin(x)\n",
    "accuracy=1\n",
    "[dyf, Xf] = my_der_calc(f, 0., 2*np.pi, 10, 'forward',accuracy)\n",
    "[dyb, Xb] = my_der_calc(f, 0., 2*np.pi, 10, 'backward',accuracy)\n",
    "[dyc, Xc] = my_der_calc(f, 0., 2*np.pi, 10, 'central',accuracy)\n",
    "plt.figure(figsize = (12, 8))\n",
    "plt.plot(x, np.cos(x), label = 'analytic')\n",
    "plt.plot(Xf, dyf, label = 'forward')\n",
    "plt.plot(Xb, dyb, label = 'backward')\n",
    "plt.plot(Xc, dyc, label = 'central')\n",
    "plt.legend()\n",
    "plt.title('Analytic and Numerical Derivatives of Sine')\n",
    "plt.xlabel('x')\n",
    "plt.ylabel('y')\n",
    "plt.show()"
   ]
  },
  {
   "cell_type": "code",
   "execution_count": null,
   "metadata": {},
   "outputs": [],
   "source": [
    "#Test code for task 2\n",
    "x = np.linspace(0, np.pi, 1000)\n",
    "f = lambda x: np.sin(np.exp(x))\n",
    "accuracy=1\n",
    "[dy10, X10] = my_der_calc(f, 0., np.pi, 10, 'central',accuracy)\n",
    "[dy20, X20] = my_der_calc(f, 0., np.pi, 20, 'central',accuracy)\n",
    "[dy100, X100] = my_der_calc(f, 0., np.pi, 100, 'central',accuracy)\n",
    "plt.figure(figsize = (12, 8))\n",
    "plt.plot(x, np.cos(np.exp(x))*np.exp(x), label = 'analytic')\n",
    "plt.plot(X10, dy10, label = '10 points')\n",
    "plt.plot(X20, dy20, label = '20 points')\n",
    "plt.plot(X100, dy100, label = '100 points')\n",
    "plt.legend()\n",
    "plt.title('Analytic and Numerical Derivatives of Sine')\n",
    "plt.xlabel('x')\n",
    "plt.ylabel('y')\n",
    "plt.show()"
   ]
  },
  {
   "cell_type": "markdown",
   "metadata": {},
   "source": [
    "### **Task 3 — Convergence and Roundoff Error Study**\n",
    "\n",
    "1. **Goal:**\n",
    "   Examine how the finite difference error changes as the step size ( h ) decreases.\n",
    "\n",
    "2. **Steps:**\n",
    "\n",
    "   * Use your `my_der_calc` function with the test function $ f(x) = \\sin(x) $.\n",
    "   * Its exact derivative is $ f'(x) = \\cos(x) $.\n",
    "   * Compute the derivative numerically over ([0, \\pi]) using the **central difference** method with **2nd-order accuracy**.\n",
    "   * Vary the number of points `N` (e.g. `[10, 20, 40, 80, 160, 320, 640, 1280, 2560]`).\n",
    "   * For each `N`, compute the **maximum absolute error**:\n",
    "     $$\n",
    "     E(N) = \\max | f'(x_i) - f'_{\\text{num}}(x_i) |\n",
    "     $$\n",
    "   * Plot $ E(N) $ versus $ h = \\frac{b-a}{N-1} $ on a log-log scale.\n",
    "\n",
    "3. **Expected behavior:**\n",
    "\n",
    "   * Initially, as $ h $ decreases, the error $ E $ decreases approximately as $O(h^p)$, where $ p $ is the order of the method.\n",
    "   * But for very small $ h $, floating-point **round-off error** becomes dominant, and the error **stops decreasing** (or even increases).\n",
    "   * This demonstrates the balance between **truncation error** and **round-off error** in numerical differentiation.\n",
    "\n",
    "4. **Optional extension:**\n",
    "\n",
    "   * Estimate the **experimental order of convergence (EOC)** by comparing consecutive error values:\n",
    "     $$\n",
    "     p \\approx \\frac{\\log(E_i / E_{i+1})}{\\log(h_i / h_{i+1})}\n",
    "     $$\n",
    "\n",
    "**Remark:** use first order derivation scheme for this task.\n"
   ]
  },
  {
   "cell_type": "code",
   "execution_count": null,
   "metadata": {},
   "outputs": [],
   "source": []
  },
  {
   "cell_type": "markdown",
   "metadata": {},
   "source": [
    "# Homework 1\n",
    "\n",
    "In this task we will compare the efficiency of different inverse matrix calculation methods. Make sure you have `time` and `memory_usage` or `tracemalloc` packages installed! The methods:\n",
    "1. np.linalg.inv \n",
    "2. LU decomposition - you can do this always\n",
    "3. QR decomposition - only if you have a  matrix with linearly independent columns\n",
    "4. Cholesky decomposition - only for a positive definite matrix\n",
    "5. Gauss-Jordan method - always, if you have the conditions for GE\n",
    "6. Montante method\n",
    "\n",
    "Check the memory usage and time for each method for different matrix sizes. Start at $n=100$ matrix size and try to go up at least to $n=2500$ or above. Summarize the results on plots"
   ]
  },
  {
   "cell_type": "code",
   "execution_count": null,
   "metadata": {},
   "outputs": [],
   "source": []
  },
  {
   "cell_type": "markdown",
   "metadata": {},
   "source": [
    "# Homework 2\n",
    "\n",
    "Below you have a transformation corresponding to the matrix\n",
    "\n",
    "$$C = \\begin{bmatrix} 2 & 1 \\\\ 1 & 2 \\end{bmatrix}$$\n",
    "\n",
    "1. Plot the natural basis and then the transformed natural basis after applying the above matrix.\n",
    "2. Take min. 41 vectors in the natural basis that are spanning starting from the origin of the natural basis and ending along a unit circle. Plot this.\n",
    "3. Apply the above transformation on the vectors and visualize the result! If you did everything correctly, then the shape you will see is an ellipsis. What will the ellipsis correspond to for a human being living in basis C?\n",
    "4. Write a program that calculates the norm of a vector in a given basis\n",
    "\n",
    "For plotting the vectors you can use `plot_vector` from `plot_helper` or write your own function!"
   ]
  },
  {
   "cell_type": "code",
   "execution_count": null,
   "metadata": {},
   "outputs": [],
   "source": []
  },
  {
   "cell_type": "markdown",
   "metadata": {},
   "source": [
    "## Homework 3\n",
    "\n",
    "Repeat the same as in **Task 4** but for the following system:\n",
    "\n",
    "![](https://physicscourses.colorado.edu/phys3210/phys3210_sp20/images/fig31-spring-ring.png)\n",
    "\n",
    "I would suggest to keep the masses and couplings as variables, so your code works for non identical case as well, just as in the problem we solved in the class."
   ]
  },
  {
   "cell_type": "code",
   "execution_count": null,
   "metadata": {},
   "outputs": [],
   "source": []
  },
  {
   "cell_type": "code",
   "execution_count": null,
   "metadata": {},
   "outputs": [],
   "source": []
  }
 ],
 "metadata": {
  "kernelspec": {
   "display_name": "Python 3",
   "language": "python",
   "name": "python3"
  },
  "language_info": {
   "codemirror_mode": {
    "name": "ipython",
    "version": 3
   },
   "file_extension": ".py",
   "mimetype": "text/x-python",
   "name": "python",
   "nbconvert_exporter": "python",
   "pygments_lexer": "ipython3",
   "version": "3.10.12"
  }
 },
 "nbformat": 4,
 "nbformat_minor": 2
}
