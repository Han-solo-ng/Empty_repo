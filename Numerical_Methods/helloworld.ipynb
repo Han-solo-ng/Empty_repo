{
 "cells": [
  {
   "cell_type": "markdown",
   "id": "8e674598",
   "metadata": {},
   "source": [
    "## Practice 1\n",
    "### Task 1: (Completed)\n",
    "Downloading and Extracting Packages:\n",
    "qt6-main-6.9.2       | 50.1 MB   | ####################9 | 100%c\n",
    "\n",
    "Preparing transaction: done\n",
    "Verifying transaction: done\n",
    "Executing transaction: done\n",
    "\n",
    " To activate this environment, use\n",
    "\n",
    "     $ conda activate inm\n",
    "\n",
    " To deactivate an active environment, use\n",
    "\n",
    "     $ conda deactivate"
   ]
  },
  {
   "cell_type": "markdown",
   "id": "90faf9cc",
   "metadata": {},
   "source": [
    "### Task 2: Write Hello World!\n",
    "1. Install VS Code/Jupyterlab (Colab is not recommended, only if the others are not working).\n",
    "2. Open a local work folder in VS Code/Jupyterlab\n",
    "3. Set your virtual environment as python interpretter\n",
    "4. Create your fist notebook called `helloworld.ipynb`.\n",
    "5. Write a short code, what prints 'Hello World!' and run it."
   ]
  },
  {
   "cell_type": "code",
   "execution_count": 1,
   "id": "22130bbd",
   "metadata": {},
   "outputs": [
    {
     "name": "stdout",
     "output_type": "stream",
     "text": [
      "Hello World!\n"
     ]
    }
   ],
   "source": [
    "print('Hello World!')"
   ]
  },
  {
   "cell_type": "markdown",
   "id": "d8d7b403",
   "metadata": {},
   "source": [
    "### Task 3: Basics of file read\n",
    "1. Read the layer charges from `example1.txt` and plot it\n",
    "* First read the file until you find the header\n",
    "* Stop if the line not looks like expected\n",
    "* Create a simple line plot with \n",
    "```python\n",
    "from matplotlib import pyplot as plt\n",
    "plt.plot(yourdata)\n",
    "```\n",
    "* Modify your code to write out the last occurance of the layer charges.\n",
    "\n",
    "2. Read the $\\chi$ superconducting order parameter from `example2.txt` and plot it, similarly as before."
   ]
  },
  {
   "cell_type": "markdown",
   "id": "db2ad922",
   "metadata": {},
   "source": [
    "Use the following code to read the file line by line:\n",
    "```python\n",
    "infile='data.txt'\n",
    "with open(infile,'r') as f:\n",
    "    line=f.readline()\n",
    "    print(line)\n",
    "    \n",
    "```\n"
   ]
  },
  {
   "cell_type": "code",
   "execution_count": 4,
   "id": "f79e6b21",
   "metadata": {},
   "outputs": [
    {
     "name": "stdout",
     "output_type": "stream",
     "text": [
      "\n",
      "\n"
     ]
    }
   ],
   "source": [
    "# Read and print the first line of a file\n",
    "infile = 'example1.txt'\n",
    "with open(infile, 'r') as f:\n",
    "    line = f.readline()\n",
    "    print(line)\n",
    "# example1.txt should exist in the same directory as this script\n"
   ]
  }
 ],
 "metadata": {
  "kernelspec": {
   "display_name": "inm",
   "language": "python",
   "name": "python3"
  },
  "language_info": {
   "codemirror_mode": {
    "name": "ipython",
    "version": 3
   },
   "file_extension": ".py",
   "mimetype": "text/x-python",
   "name": "python",
   "nbconvert_exporter": "python",
   "pygments_lexer": "ipython3",
   "version": "3.10.18"
  }
 },
 "nbformat": 4,
 "nbformat_minor": 5
}
