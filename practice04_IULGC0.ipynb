{
 "cells": [
  {
   "cell_type": "markdown",
   "metadata": {},
   "source": [
    "# Introduction to numerical algorithms\n",
    "## Practice class 4"
   ]
  },
  {
   "cell_type": "code",
   "execution_count": 2,
   "metadata": {},
   "outputs": [],
   "source": [
    "import time\n",
    "import numpy as np\n",
    "import matplotlib.pyplot as plt"
   ]
  },
  {
   "cell_type": "markdown",
   "metadata": {},
   "source": [
    "### Task 1\n",
    "First use the algorithms written in class.\n",
    "\n",
    "1. Use Gauss Elimination to solve the following equations.\n",
    "\n",
    "$$\\begin{gather}\n",
    "3x_1−x_2+4x_3=2\\\\\n",
    "17x_1+2x_2+x_3=14\\\\\n",
    "x_1+12x_2−7x_3=54\n",
    "\\end{gather}$$\n",
    "2. Write the Gauss-Jordan Elimination (**I mean full pivoting by it!**)to solve the above equations.\n",
    "3. Find some clever way to visualize each step (eg. printin the augmented matrix or plotting a heatmap of the matrix at each step).\n",
    "4. Get the lower triangular matrix $L$ and upper triangular matrix $U$ from the equations above.\n",
    "5. Compare execution times for our vs numpy/scipy Gauss elimination! Go up with matrix sizes to at least $N=25$! To measure time:\n",
    "\n",
    "```python\n",
    "start = time.time()\n",
    "# your code you want to time\n",
    "stop = time.time()\n",
    "tot_time = stop - start\n",
    "```\n",
    "\n",
    "Make a plot, where you plot the two lines representing the time needed for the different matrix sizes.\n",
    "\n",
    "### Additional help\n",
    "\n",
    "Here is a pseudo code that you can follow through to successfully implement the GE\n",
    "\n",
    "```\n",
    "Input: \n",
    "    A (n×n coefficient matrix)\n",
    "    b (n×1 right-hand side vector)\n",
    "\n",
    "Output:\n",
    "    x (solution vector of length n)\n",
    "\n",
    "Algorithm:\n",
    "\n",
    "1. Form the augmented matrix B = [A | b].\n",
    "\n",
    "2. Initialize column permutation record: col_perm = [0, 1, ..., n-1].\n",
    "\n",
    "3. For k = 0 to n-1 do:\n",
    "    \n",
    "    a. Pivoting (choose best pivot):\n",
    "        - Search the submatrix B[k:n, k:n] for the element with \n",
    "          the largest absolute value.\n",
    "        - Let (i_max, j_max) be the position of this pivot.\n",
    "        - If pivot value is 0 → the system has no unique solution.\n",
    "    \n",
    "    b. Swap rows if needed:\n",
    "        - Swap row k with row i_max in B.\n",
    "\n",
    "    c. Swap columns if needed:\n",
    "        - Swap column k with column j_max in B.\n",
    "        - Record this swap in col_perm (to undo later).\n",
    "    \n",
    "    d. Normalize pivot row:\n",
    "        - Divide row k by the pivot value so that B[k, k] = 1.\n",
    "\n",
    "    e. Eliminate all other entries in column k:\n",
    "        - For each row i ≠ k:\n",
    "            - Subtract (B[i, k] × row k) from row i.\n",
    "        - This ensures that column k has zeros everywhere except at the pivot.\n",
    "\n",
    "4. At this point, the left side of B is the identity matrix.\n",
    "   The rightmost column contains the solution vector, but\n",
    "   in permuted order (because of column swaps).\n",
    "\n",
    "5. Undo column permutations:\n",
    "    - Initialize x as a zero vector of length n.\n",
    "    - For i = 0 to n-1:\n",
    "        - Place solution entry b[i] into position col_perm[i] of x.\n",
    "\n",
    "6. Return x.\n",
    "```\n",
    "\n",
    "To make the code modular, you can write functions tht perform only one subtast, eg. `swap_rows_and_cols()`, `add_rows_and_cols()`, `plot_state()` etc."
   ]
  },
  {
   "cell_type": "markdown",
   "metadata": {},
   "source": []
  },
  {
   "cell_type": "code",
   "execution_count": 3,
   "metadata": {},
   "outputs": [
    {
     "name": "stdout",
     "output_type": "stream",
     "text": [
      "[[ 3 -1  4]\n",
      " [17  2  1]\n",
      " [ 1 12 -7]]\n",
      "[ 2 14 54]\n"
     ]
    }
   ],
   "source": [
    "# Given the matrix A and vector b\n",
    "A = np.array([[3,-1,4],\n",
    "            [17,2,1],\n",
    "            [1, 12, -7]])\n",
    "b = np.array([2, 14, 54])\n",
    "\n",
    "ind  = np.unravel_index(np.argmax(A), A.shape) # returns the index of the maximum value in the flattened array\n",
    "# Algo to find the pivot:\n",
    "print(A)\n",
    "print(b)\n",
    "\n",
    "\n"
   ]
  },
  {
   "cell_type": "code",
   "execution_count": 4,
   "metadata": {},
   "outputs": [],
   "source": [
    "def gauss_method(A, b):\n",
    "    A = A.astype(float)\n",
    "    b = b.astype(float)\n",
    "    B = np.hstack((A, b.reshape(-1,1)))\n",
    "\n",
    "    col_perm = np.arange(A.shape[1]) # column permutation vecto\n",
    "    row_perm = np.arange(A.shape[0])\n",
    "    n= A.shape[0]\n",
    "\n",
    "    for k in range(A.shape[0]): # loop over each row\n",
    "        sub = B[k:, k:] # submatrix B[k:n, k:n]\n",
    "        pivot_idx = np.argmax(np.abs(B[k:, k:n])) # index of the max element in the submatrix\n",
    "        col_idx = pivot_idx // A.shape[0] + k # column index of the pivot\n",
    "        row_idx = pivot_idx % A.shape[0] + k # row index of the pivot\n",
    "\n",
    "        if np.isclose(B[row_idx, col_idx], 0): \n",
    "            raise ValueError(\"Singular matrix\") # check for zero pivot\n",
    "        if row_idx != k: \n",
    "            B[[k, row_idx], :] = B[[row_idx, k], :] # swap rows in B\n",
    "            row_perm[[k, row_idx]] = row_perm[[row_idx, k]] # update row permutation\n",
    "        if col_idx != k:\n",
    "            B[:, [k, col_idx]] = B[:, [col_idx, k]] # swap columns in B\n",
    "            col_perm[[k, col_idx]] = col_perm[[col_idx, k]] # update column permutation \n",
    "\n",
    "        B[k] /= B[k,k] # normalize pivot row\n",
    "        if k < n-1:\n",
    "            B[k+1:] -= B[k+1: , k:k+1]*B[k] # eliminate below\n",
    "        print(f\"Step {k+1}:\\n\", B) # print the matrix after each step\n",
    "        \n",
    "    sol = np.zeros(n) # back substitution\n",
    "    for i in range(n-1, -1, -1): \n",
    "        sol[i] = B[i, -1] - np.dot(B[i, i+1:n], sol[i+1:n]) # calculate solution\n",
    "    sol = sol[col_perm.argsort()] # reorder solution according to column permutations\n",
    "    return sol\n",
    "\n"
   ]
  },
  {
   "cell_type": "code",
   "execution_count": 5,
   "metadata": {},
   "outputs": [
    {
     "name": "stdout",
     "output_type": "stream",
     "text": [
      "Step 1:\n",
      " [[ 1. -3. -4. -2.]\n",
      " [ 0. 23.  9. 18.]\n",
      " [ 0. 37. 41. 78.]]\n",
      "Step 2:\n",
      " [[  1.          -4.          -3.          -2.        ]\n",
      " [  0.           1.           2.55555556   2.        ]\n",
      " [  0.           0.         -67.77777778  -4.        ]]\n",
      "Step 3:\n",
      " [[ 1.         -4.         -3.         -2.        ]\n",
      " [ 0.          1.          2.55555556  2.        ]\n",
      " [-0.         -0.          1.          0.05901639]]\n"
     ]
    },
    {
     "data": {
      "text/plain": [
       "array([0.05901639, 5.57377049, 1.84918033])"
      ]
     },
     "execution_count": 5,
     "metadata": {},
     "output_type": "execute_result"
    }
   ],
   "source": [
    "gauss_method(A, b)\n",
    "\n"
   ]
  },
  {
   "cell_type": "code",
   "execution_count": 6,
   "metadata": {},
   "outputs": [
    {
     "data": {
      "text/plain": [
       "' Search the submatrix B[k:n, k:n] for the element with \\n          the largest absolute value.\\n        - Let (i_max, j_max) be the position of this pivot.\\n        - If pivot value is 0 → the system has no unique solution.\\n'"
      ]
     },
     "execution_count": 6,
     "metadata": {},
     "output_type": "execute_result"
    }
   ],
   "source": [
    "#  Pivoting (choose best pivot):\n",
    "''' Search the submatrix B[k:n, k:n] for the element with \n",
    "          the largest absolute value.\n",
    "        - Let (i_max, j_max) be the position of this pivot.\n",
    "        - If pivot value is 0 → the system has no unique solution.\n",
    "'''"
   ]
  },
  {
   "cell_type": "code",
   "execution_count": 7,
   "metadata": {},
   "outputs": [
    {
     "name": "stdout",
     "output_type": "stream",
     "text": [
      "Step 1:\n",
      " [[ 1. -3. -4. -2.]\n",
      " [ 0. 23.  9. 18.]\n",
      " [ 0. 37. 41. 78.]]\n",
      "Step 2:\n",
      " [[  1.          -4.          -3.          -2.        ]\n",
      " [  0.           1.           2.55555556   2.        ]\n",
      " [  0.           0.         -67.77777778  -4.        ]]\n",
      "Step 3:\n",
      " [[ 1.         -4.         -3.         -2.        ]\n",
      " [ 0.          1.          2.55555556  2.        ]\n",
      " [-0.         -0.          1.          0.05901639]]\n",
      "Time taken:  0.004617929458618164\n"
     ]
    }
   ],
   "source": [
    "start = time.time()\n",
    "\n",
    "gauss_method(A, b)\n",
    "stop = time.time()\n",
    "tot_time = stop - start\n",
    "print(\"Time taken: \", tot_time)"
   ]
  },
  {
   "cell_type": "markdown",
   "metadata": {},
   "source": [
    "### Bonus\n",
    "\n",
    "Have you ever wondered how scientific software computes a determinant? The formula that you learned for calculating determinants by hand is horribly cumbersome and computationally intractible for large matrices. This problem is meant to give you glimpse of what is actually going on under the hood.\n",
    "\n",
    "If $A$ has an LU decomposition then $A=LU$. Use properties that you know about determinants to come up with a simple way to find the determinant for matrices that have an LU decomposition. Show all of your work in developing your formula (derive by hand in latex for eg.).\n",
    "\n",
    "Once you have your formula for calculating $\\det(A)$, write a Python function that accepts a matrix, produces the LU decomposition, and returns the determinant of $A$. \n",
    "\n",
    "Check your work against Python’s `np.linalg.det()` function.\n",
    "\n",
    "### Pseudo code for partial pivoting LU decomposition\n",
    "```\n",
    "Input:\n",
    "    A : square matrix (n × n)\n",
    "\n",
    "Output:\n",
    "    P : permutation matrix (n × n)\n",
    "    L : lower triangular matrix (n × n, with 1s on diagonal)\n",
    "    U : upper triangular matrix (n × n)\n",
    "\n",
    "Algorithm:\n",
    "\n",
    "1. Let n = number of rows in A.\n",
    "\n",
    "2. Initialize:\n",
    "    - U = copy of A\n",
    "    - L = zero matrix of size n×n\n",
    "    - P = identity matrix of size n×n\n",
    "\n",
    "3. For i = 0 to n-1 do:\n",
    "    \n",
    "    a. Find pivot row:\n",
    "        - Look at column i, rows i through n-1.\n",
    "        - Find row index pivot with largest absolute value in this column.\n",
    "\n",
    "    b. If pivot ≠ i:\n",
    "        - Swap row i and row pivot in U.\n",
    "        - Swap row i and row pivot in P.\n",
    "        - If i > 0:\n",
    "            Swap row i and row pivot in L, but only for columns 0 through i-1.\n",
    "\n",
    "    c. Set L[i, i] = 1   (unit diagonal of L)\n",
    "\n",
    "    d. For each row j from i+1 to n-1:\n",
    "        - Compute multiplier: L[j, i] = U[j, i] / U[i, i]\n",
    "        - Update row j of U: U[j, i:] = U[j, i:] - L[j, i] * U[i, i:]\n",
    "\n",
    "4. Return P, L, U.\n",
    "```"
   ]
  },
  {
   "cell_type": "code",
   "execution_count": null,
   "metadata": {},
   "outputs": [],
   "source": []
  },
  {
   "cell_type": "markdown",
   "metadata": {},
   "source": [
    "### Homework 1\n",
    "\n",
    "Imagine that we have a $1$ meter long thin metal rod that has been heated to $100^\\circ$ on the left-hand side and cooled to 0 on the right-hand side. We want to know the temperature every $10$ cm from left to right on the rod.\n",
    "\n",
    "First we break the rod into equal $10$ cm increments. How many unknowns are there?\n",
    "\n",
    "The temperature at each point along the rod is the average of the temperatures at the adjacent points. For example, if we let $T_1$ be the temperature at point $x_1$ then \n",
    "\n",
    "$$T_1=\\frac{T_0+T_2}{2}.$$\n",
    " \n",
    "1. Write a system of equations for each of the unknown temperatures.\n",
    "2. Solve the system for the temperature at each unknown node using LU decomposition.\n",
    " \n",
    "**BONUS:** Check other decompositions too! the most popular ones are Cholesky, QR, etc."
   ]
  },
  {
   "cell_type": "code",
   "execution_count": null,
   "metadata": {},
   "outputs": [],
   "source": []
  },
  {
   "cell_type": "markdown",
   "metadata": {},
   "source": [
    "### Homework 2\n",
    "For this problem you will be going to run a numerical experiment to see how the process of solving the equation \n",
    "\n",
    "$$Ax=b$$\n",
    "using the LU factorization performs on random coefficient matrices $A$ and random right-hand sides $b$. You will compare against Python’s algorithm for solving linear systems.\n",
    "\n",
    "Do the following:\n",
    "\n",
    "1. Loop over the size of the matrix $n$.\n",
    "2. Build a random matrix $A$ of size $n\\times n$. You can do this with the code `A = np.matrix(np.random.randn(n,n))`\n",
    "3. Build a random vector $b$ in $\\mathbb{R}^n$. You can do this with the code `b = np.matrix(np.random.randn(n,1))`\n",
    "4. Find Python’s answer to the problem $Ax=b$ using the command `exact = np.linalg.solve(A,b)`\n",
    "5. Write code that uses your LU decomposition written in the practice class  to find a solution to the equation $Ax=b$.\n",
    "6. Find the error between your answer and the exact answer using the code `np.linalg.norm(x - exact)`\n",
    "7. Make a plot (`plt.semilogy()`) that shows how the error behaves as the size of the problem changes. You should run this for matrices of larger and larger size but be warned that the loop will run for quite a long time if you go above $300\\times 300$ matrices. Just be patient."
   ]
  },
  {
   "cell_type": "code",
   "execution_count": 9,
   "metadata": {},
   "outputs": [
    {
     "data": {
      "text/plain": [
       "matrix([[0.32624465, 0.6820666 ],\n",
       "        [0.5598601 , 0.85608422]])"
      ]
     },
     "execution_count": 9,
     "metadata": {},
     "output_type": "execute_result"
    }
   ],
   "source": [
    "A2 = np.matrix(np.random.rand(2,2))\n",
    "A2"
   ]
  },
  {
   "cell_type": "code",
   "execution_count": 11,
   "metadata": {},
   "outputs": [
    {
     "data": {
      "text/plain": [
       "matrix([[0.09044887],\n",
       "        [0.87239252]])"
      ]
     },
     "execution_count": 11,
     "metadata": {},
     "output_type": "execute_result"
    }
   ],
   "source": [
    "b2 = np.matrix(np.random.rand(2, 1))\n",
    "b2"
   ]
  },
  {
   "cell_type": "code",
   "execution_count": 12,
   "metadata": {},
   "outputs": [
    {
     "data": {
      "text/plain": [
       "matrix([[ 5.04633998],\n",
       "        [-2.2811446 ]])"
      ]
     },
     "execution_count": 12,
     "metadata": {},
     "output_type": "execute_result"
    }
   ],
   "source": [
    "exact = np.linalg.solve(A2, b2)\n",
    "exact"
   ]
  },
  {
   "cell_type": "code",
   "execution_count": null,
   "metadata": {},
   "outputs": [],
   "source": []
  }
 ],
 "metadata": {
  "kernelspec": {
   "display_name": "inm",
   "language": "python",
   "name": "python3"
  },
  "language_info": {
   "codemirror_mode": {
    "name": "ipython",
    "version": 3
   },
   "file_extension": ".py",
   "mimetype": "text/x-python",
   "name": "python",
   "nbconvert_exporter": "python",
   "pygments_lexer": "ipython3",
   "version": "3.10.18"
  }
 },
 "nbformat": 4,
 "nbformat_minor": 2
}
